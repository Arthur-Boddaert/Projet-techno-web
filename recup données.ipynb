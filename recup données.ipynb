{
 "cells": [
  {
   "cell_type": "markdown",
   "source": [
    "## Récup données"
   ],
   "metadata": {
    "collapsed": false
   },
   "id": "73157cb1fa6b2ebe"
  },
  {
   "cell_type": "code",
   "execution_count": 77,
   "id": "initial_id",
   "metadata": {
    "collapsed": true,
    "ExecuteTime": {
     "end_time": "2023-11-21T16:23:25.980962800Z",
     "start_time": "2023-11-21T16:23:25.963924400Z"
    }
   },
   "outputs": [],
   "source": [
    "import pandas as pd\n",
    "import numpy as np\n",
    "from os.path import exists\n",
    "from os import remove"
   ]
  },
  {
   "cell_type": "code",
   "execution_count": 70,
   "outputs": [
    {
     "name": "stdout",
     "output_type": "stream",
     "text": [
      "99\n",
      "[('001', '3'), ('003', '6'), ('004', '5'), ('005', '1')]\n"
     ]
    }
   ],
   "source": [
    "sujets = {}\n",
    "with open('CK+/emotion.csv', 'r') as fileIn:\n",
    "    fileIn.readline()\n",
    "    for ligne in fileIn:\n",
    "        sujet_temp = ligne.split(';')[0]\n",
    "        file_emotion = (ligne.split(';')[1],ligne.split(';')[2].strip())\n",
    "        if sujet_temp not in sujets.keys():\n",
    "            sujets[sujet_temp]= [file_emotion]\n",
    "        else:\n",
    "            sujets[sujet_temp].append(file_emotion)\n",
    "print(len(sujets))\n",
    "print(sujets['S034'])"
   ],
   "metadata": {
    "collapsed": false,
    "ExecuteTime": {
     "end_time": "2023-11-21T16:17:48.542153300Z",
     "start_time": "2023-11-21T16:17:48.453699200Z"
    }
   },
   "id": "69c3db2a88d63db5"
  },
  {
   "cell_type": "code",
   "execution_count": 104,
   "outputs": [],
   "source": [
    "if exists('CK+/all_data_emotion.csv'):\n",
    "    remove('CK+/all_data_emotion.csv')\n",
    "for key in sujets.keys():\n",
    "    new_csv_str = ''\n",
    "    dictio = {}\n",
    "    for file in [sujets[key][i] for i in range(len(sujets[key]))]:\n",
    "        dictio[file[0]] = file[1]\n",
    "    with open(f'CK+/{key}/omlands.csv', 'r') as fileIn :\n",
    "        i = 0\n",
    "        for line in fileIn:\n",
    "            file = line.split(';')[0]\n",
    "            if file in dictio:\n",
    "                new_csv_str += line.strip() + f' {dictio[file]}; {key}\\n'\n",
    "            else:\n",
    "                pass\n",
    "    with open('CK+/all_data_emotion.csv', 'a') as fileOut:\n",
    "        fileOut.write(new_csv_str)        "
   ],
   "metadata": {
    "collapsed": false,
    "ExecuteTime": {
     "end_time": "2023-11-21T16:27:06.637861Z",
     "start_time": "2023-11-21T16:27:06.508023100Z"
    }
   },
   "id": "89caa429ada70fad"
  },
  {
   "cell_type": "code",
   "execution_count": 91,
   "outputs": [
    {
     "data": {
      "text/plain": "False"
     },
     "execution_count": 91,
     "metadata": {},
     "output_type": "execute_result"
    }
   ],
   "source": [
    "not exists('CK+/all_data_emotion.csv')"
   ],
   "metadata": {
    "collapsed": false,
    "ExecuteTime": {
     "end_time": "2023-11-21T16:26:37.912683Z",
     "start_time": "2023-11-21T16:26:37.901618100Z"
    }
   },
   "id": "16eb64af0c83abd4"
  },
  {
   "cell_type": "code",
   "execution_count": 78,
   "outputs": [],
   "source": [
    "#emotions = pd.read_csv(\"CK+/emotion.csv\", sep = \";\")\n",
    "#\n",
    "#l = ['subject']\n",
    "#subjects = {}\n",
    "#for subject in emotions['subject'] :\n",
    "#    if subject not in subjects :\n",
    "#        dir = \"CK+/\" + subject + \"/omlands.csv\"\n",
    "#        subjects[subject] = pd.read_csv(dir, sep = \";\", header=None )\n",
    "#        subjects[subject] = subjects[subject].drop(subjects[subject].columns[137], axis=1)\n",
    "#subjects['S010']"
   ],
   "metadata": {
    "collapsed": false,
    "ExecuteTime": {
     "end_time": "2023-11-21T16:23:53.964217Z",
     "start_time": "2023-11-21T16:23:53.952852100Z"
    }
   },
   "id": "8db6cc77ea522a68"
  },
  {
   "cell_type": "code",
   "execution_count": 73,
   "outputs": [],
   "source": [
    "#for key in sujets.keys():\n",
    "#    new_columns = []\n",
    "#    print(key)\n",
    "#    for ligne in range (subjects[key].shape[0]):\n",
    "#        indices = subjects[key].iloc[ligne][0]-1\n",
    "#        print(subjects[key].iloc[ligne][0]-1)\n",
    "#        new_columns.append(sujets[key][indices][1])\n",
    "#    subjects[key].insert(137, 137, new_columns, True)"
   ],
   "metadata": {
    "collapsed": false,
    "ExecuteTime": {
     "end_time": "2023-11-21T16:17:48.787631400Z",
     "start_time": "2023-11-21T16:17:48.764008700Z"
    }
   },
   "id": "42d027133add8322"
  }
 ],
 "metadata": {
  "kernelspec": {
   "display_name": "Python 3",
   "language": "python",
   "name": "python3"
  },
  "language_info": {
   "codemirror_mode": {
    "name": "ipython",
    "version": 2
   },
   "file_extension": ".py",
   "mimetype": "text/x-python",
   "name": "python",
   "nbconvert_exporter": "python",
   "pygments_lexer": "ipython2",
   "version": "2.7.6"
  }
 },
 "nbformat": 4,
 "nbformat_minor": 5
}
